{
 "cells": [
  {
   "cell_type": "markdown",
   "metadata": {},
   "source": [
    "<img src=\"https://bit.ly/2VnXWr2\" width=\"100\" align=\"left\">"
   ]
  },
  {
   "cell_type": "markdown",
   "metadata": {},
   "source": [
    "# Rock, Paper & Scissors\n",
    "\n",
    "Let's play the famous game against our computer. You can check the rules [here](https://en.wikipedia.org/wiki/Rock%E2%80%93paper%E2%80%93scissors). \n",
    "\n",
    "## Task\n",
    "Create a program that imitates the playability of the well known game of rock, paper, scissors. Follow the guidelines provided.\n",
    "\n",
    "## Tools\n",
    "1. Loop: **for/while**\n",
    "2. Functions: **input(), print()...**\n",
    "3. Conditional statements: **if, elif, else**\n",
    "4. Definition of functions. Modular programming\n",
    "5. Import modules\n",
    "\n",
    "**To solve this challenge, the use of functions is recommended.**\n",
    "\n",
    "#### 1. Import the choice function of the random module."
   ]
  },
  {
   "cell_type": "code",
   "execution_count": 1,
   "metadata": {},
   "outputs": [],
   "source": [
    "import random"
   ]
  },
  {
   "cell_type": "markdown",
   "metadata": {},
   "source": [
    "#### 2. Create a list that includes the 3 possible gesture options of the game: 'rock', 'paper' or 'scissors'. Store the list in a variable called `gestures`."
   ]
  },
  {
   "cell_type": "code",
   "execution_count": 2,
   "metadata": {},
   "outputs": [],
   "source": [
    "gestures = [\"rock\", \"paper\", \"scissors\"]"
   ]
  },
  {
   "cell_type": "markdown",
   "metadata": {},
   "source": [
    "#### 3. Create a variable called `n_rounds` to store the maximum number of rounds to play in a game. \n",
    "Remember that the number of rounds must be odd: 1, 3, 5, ..."
   ]
  },
  {
   "cell_type": "code",
   "execution_count": 3,
   "metadata": {},
   "outputs": [],
   "source": [
    "n_rounds = 0"
   ]
  },
  {
   "cell_type": "markdown",
   "metadata": {},
   "source": [
    "#### 4. Create a variable called `rounds_to_win` to store the number of rounds that a player must win to win the game.\n",
    "**Hint**: the value stored in `rounds_to_win` depends on the value of `n_rounds`. "
   ]
  },
  {
   "cell_type": "code",
   "execution_count": 4,
   "metadata": {},
   "outputs": [],
   "source": [
    "rounds_to_win = 0"
   ]
  },
  {
   "cell_type": "markdown",
   "metadata": {},
   "source": [
    "#### 5. Create two variables to store the number of rounds that the computer and the player have won. Call these variables `cpu_score` and `player_score`."
   ]
  },
  {
   "cell_type": "code",
   "execution_count": 5,
   "metadata": {},
   "outputs": [],
   "source": [
    "cpu_score = 0\n",
    "player_score = 0"
   ]
  },
  {
   "cell_type": "markdown",
   "metadata": {},
   "source": [
    "#### 6. Define a function that randomly returns one of the 3 gesture options.\n",
    "You will use this function to simulate the gesture choice of the computer. "
   ]
  },
  {
   "cell_type": "code",
   "execution_count": 6,
   "metadata": {},
   "outputs": [],
   "source": [
    "cpu_gest = random.choice(gestures)"
   ]
  },
  {
   "cell_type": "markdown",
   "metadata": {},
   "source": [
    "#### 7. Define a function that asks the player which is the gesture he or she wants to show: 'rock', 'paper' or 'scissors'.\n",
    "The player should only be allowed to choose one of the 3 gesture options. If the player's choice is not rock, paper or scissors, keep asking until it is."
   ]
  },
  {
   "cell_type": "code",
   "execution_count": 7,
   "metadata": {},
   "outputs": [
    {
     "name": "stdout",
     "output_type": "stream",
     "text": [
      "Choose 1 for ROCK, 2 for PAPER or 3 for SCISSORS: 2\n",
      "paper\n"
     ]
    }
   ],
   "source": [
    "dict_gesture = {\"1\":'rock', \"2\": 'paper', \"3\":'scissors'}\n",
    "player_gest = 0\n",
    "\n",
    "while int(player_gest) < 1 or int(player_gest) > 3:\n",
    "  player_gest = input(\"Choose 1 for ROCK, 2 for PAPER or 3 for SCISSORS: \")\n",
    "  if int(player_gest) < 1 or int(player_gest) > 3:\n",
    "    print(\"Please choose a number between 1 and 3!!!\")\n",
    "print(dict_gesture[player_gest])"
   ]
  },
  {
   "cell_type": "markdown",
   "metadata": {},
   "source": [
    "#### 8. Define a function that checks who won a round. \n",
    "The function should return 0 if there is a tie, 1 if the computer wins and 2 if the player wins."
   ]
  },
  {
   "cell_type": "code",
   "execution_count": 8,
   "metadata": {},
   "outputs": [
    {
     "name": "stdout",
     "output_type": "stream",
     "text": [
      "paper\n"
     ]
    },
    {
     "data": {
      "text/plain": [
       "0"
      ]
     },
     "execution_count": 8,
     "metadata": {},
     "output_type": "execute_result"
    }
   ],
   "source": [
    "def game(player_gest):\n",
    "  cpu_gest = random.choice(gestures)\n",
    "  print(cpu_gest)\n",
    "  if dict_gesture[player_gest] == dict_gesture[\"3\"] and cpu_gest == dict_gesture[\"2\"]:\n",
    "    point = 2\n",
    "  elif dict_gesture[player_gest] == dict_gesture[\"2\"] and cpu_gest == dict_gesture[\"1\"]:\n",
    "    point = 2\n",
    "  elif dict_gesture[player_gest] == dict_gesture[\"1\"] and cpu_gest == dict_gesture[\"3\"]:\n",
    "    point = 2\n",
    "  else:\n",
    "    point = 1\n",
    "  if dict_gesture[player_gest] == cpu_gest:\n",
    "    point = 0\n",
    "  return(point)\n",
    "\n",
    "game(player_gest)"
   ]
  },
  {
   "cell_type": "markdown",
   "metadata": {},
   "source": [
    "#### 9. Define a function that prints the choice of the computer, the choice of the player and a message that announces who won the current round. \n",
    "You should also use this function to update the variables that count the number of rounds that the computer and the player have won. The score of the winner increases by one point. If there is a tie, the score does not increase."
   ]
  },
  {
   "cell_type": "code",
   "execution_count": 9,
   "metadata": {},
   "outputs": [
    {
     "name": "stdout",
     "output_type": "stream",
     "text": [
      "Choose 1 for ROCK, 2 for PAPER or 3 for SCISSORS: 1\n",
      "rock\n",
      "scissors\n"
     ]
    },
    {
     "data": {
      "text/plain": [
       "'PLAYER wins'"
      ]
     },
     "execution_count": 9,
     "metadata": {},
     "output_type": "execute_result"
    }
   ],
   "source": [
    "def match():\n",
    "  player_gest = 0\n",
    "  while int(player_gest) < 1 or int(player_gest) > 3:\n",
    "    player_gest = input(\"Choose 1 for ROCK, 2 for PAPER or 3 for SCISSORS: \")\n",
    "  if int(player_gest) < 1 or int(player_gest) > 3:\n",
    "    print(\"Please choose a number between 1 and 3!!!\")\n",
    "  print(dict_gesture[player_gest])\n",
    "\n",
    "  winner = game(player_gest)\n",
    "  \n",
    "  if winner == 1:\n",
    "    match_winner = \"CPU wins\"\n",
    "  elif winner == 2:\n",
    "    match_winner = \"PLAYER wins\"\n",
    "  else:\n",
    "    match_winner = \"It's a TIE\"\n",
    "  return(match_winner)\n",
    "\n",
    "match()"
   ]
  },
  {
   "cell_type": "markdown",
   "metadata": {},
   "source": [
    "#### 10. Now it's time to code the execution of the game using the functions and variables you defined above. \n",
    "\n",
    "First, create a loop structure that repeats while no player reaches the minimum score necessary to win and the number of rounds is less than the maximum number of rounds to play in a game.  \n",
    "\n",
    "Inside the loop, use the functions and variables above to create the execution of a round: ask for the player's choice, generate the random choice of the computer, show the round results, update the scores, etc. "
   ]
  },
  {
   "cell_type": "code",
   "execution_count": 10,
   "metadata": {},
   "outputs": [
    {
     "name": "stdout",
     "output_type": "stream",
     "text": [
      "Indicates an odd number of rounds: 3\n",
      "Choose 1 for ROCK, 2 for PAPER or 3 for SCISSORS: 2\n",
      "paper\n",
      "scissors\n",
      "Player points: 0\n",
      "Computer points: 0\n",
      "Choose 1 for ROCK, 2 for PAPER or 3 for SCISSORS: 3\n",
      "scissors\n",
      "paper\n",
      "Player points: 0\n",
      "Computer points: 0\n",
      "Choose 1 for ROCK, 2 for PAPER or 3 for SCISSORS: 3\n",
      "scissors\n",
      "scissors\n",
      "Player points: 0\n",
      "Computer points: 0\n"
     ]
    }
   ],
   "source": [
    "total_rounds = 0\n",
    "while int(total_rounds) % 2 == 0: \n",
    "  total_rounds = int(input(\"Indicates an odd number of rounds: \"))\n",
    "\n",
    "n_rounds = 0\n",
    "rounds_to_win = 0\n",
    "cpu_score = 0\n",
    "player_score = 0\n",
    "\n",
    "\n",
    "while n_rounds < total_rounds:\n",
    "  game_round = match()\n",
    "  n_rounds = n_rounds + 1\n",
    "  if game_round[1] == 1:\n",
    "    cpu_score = cpu_score + 1\n",
    "  elif game_round[1] == 2:\n",
    "    player_score = player_score + 1\n",
    "  print(\"Player points: %d\" % player_score)\n",
    "  print(\"Computer points: %d\" % cpu_score)\n",
    "\n"
   ]
  },
  {
   "cell_type": "markdown",
   "metadata": {},
   "source": [
    "#### 11. Print the winner of the game based on who won more rounds.\n",
    "Remember that the game might be tied. "
   ]
  },
  {
   "cell_type": "code",
   "execution_count": 11,
   "metadata": {},
   "outputs": [
    {
     "name": "stdout",
     "output_type": "stream",
     "text": [
      "It's a tie!\n"
     ]
    }
   ],
   "source": [
    "if player_score > cpu_score:\n",
    "  print(\"Player wins!\")\n",
    "elif player_score < cpu_score:\n",
    "  print(\"Computer wins!\")\n",
    "elif player_score == cpu_score:\n",
    "  print(\"It's a tie!\")"
   ]
  },
  {
   "cell_type": "markdown",
   "metadata": {},
   "source": [
    "# Bonus: Rock, Paper, Scissors, Lizard & Spock\n",
    "![](images/rpsls.jpg)\n",
    "\n",
    "In this challenge, you need to improve the previous game by adding two new options. To know more about the rules of the improved version of rock, paper, scissors, check this [link](http://www.samkass.com/theories/RPSSL.html). \n",
    "\n",
    "In addition, you will also need to improve how the game interacts with the player: the number of rounds to play, which must be an odd number, will be requested to the user until a valid number is entered. Define a new function to make that request.\n",
    "\n",
    "**Hint**: Try to reuse the code that you already coded in the previous challenge. If your code is efficient, this bonus will only consist of simple modifications to the original game."
   ]
  },
  {
   "cell_type": "code",
   "execution_count": 12,
   "metadata": {},
   "outputs": [
    {
     "name": "stdout",
     "output_type": "stream",
     "text": [
      "Indicates an odd number of rounds: 3\n",
      "Choose 1 for ROCK, 2 for PAPER, 3 for SCISSORS, 4 for SPOCK or 5 for LIZARD: 1\n",
      "rock\n",
      "spock\n",
      "Player points: 0\n",
      "Computer points: 1\n",
      "Choose 1 for ROCK, 2 for PAPER, 3 for SCISSORS, 4 for SPOCK or 5 for LIZARD: 5\n",
      "lizard\n",
      "rock\n",
      "Player points: 0\n",
      "Computer points: 2\n",
      "Choose 1 for ROCK, 2 for PAPER, 3 for SCISSORS, 4 for SPOCK or 5 for LIZARD: 4\n",
      "spock\n",
      "spock\n",
      "Player points: 0\n",
      "Computer points: 2\n",
      "Computer wins!\n"
     ]
    }
   ],
   "source": [
    "import random\n",
    "\n",
    "gestures = [\"rock\", \"paper\", \"scissors\", \"spock\", \"lizard\"]\n",
    "dict_gesture = {\"1\":'rock', \"2\": 'paper', \"3\":'scissors', \"4\":'spock', \"5\":'lizard'}\n",
    "\n",
    "\n",
    "def bonus_game(player_gest):\n",
    "  cpu_gest = random.choice(gestures)\n",
    "  print(cpu_gest)\n",
    "  if dict_gesture[player_gest] == dict_gesture[\"3\"] and cpu_gest == dict_gesture[\"2\"]:\n",
    "    point = 2\n",
    "  elif dict_gesture[player_gest] == dict_gesture[\"2\"] and cpu_gest == dict_gesture[\"1\"]:\n",
    "    point = 2\n",
    "  elif dict_gesture[player_gest] == dict_gesture[\"1\"] and cpu_gest == dict_gesture[\"3\"]:\n",
    "    point = 2\n",
    "  elif dict_gesture[player_gest] == dict_gesture[\"1\"] and cpu_gest == dict_gesture[\"5\"]:\n",
    "    point = 2\n",
    "  elif dict_gesture[player_gest] == dict_gesture[\"3\"] and cpu_gest == dict_gesture[\"5\"]:\n",
    "    point = 2\n",
    "  elif dict_gesture[player_gest] == dict_gesture[\"5\"] and cpu_gest == dict_gesture[\"2\"]:\n",
    "    point = 2\n",
    "  elif dict_gesture[player_gest] == dict_gesture[\"5\"] and cpu_gest == dict_gesture[\"4\"]:\n",
    "    point = 2\n",
    "  elif dict_gesture[player_gest] == dict_gesture[\"2\"] and cpu_gest == dict_gesture[\"4\"]:\n",
    "    point = 2\n",
    "  elif dict_gesture[player_gest] == dict_gesture[\"4\"] and cpu_gest == dict_gesture[\"1\"]:\n",
    "    point = 2\n",
    "  elif dict_gesture[player_gest] == dict_gesture[\"4\"] and cpu_gest == dict_gesture[\"3\"]:\n",
    "    point = 2\n",
    "  else:\n",
    "    point = 1\n",
    "  if dict_gesture[player_gest] == cpu_gest:\n",
    "    point = 0\n",
    "  return(point)\n",
    "\n",
    "total_rounds = 0\n",
    "while int(total_rounds) % 2 == 0: \n",
    "  total_rounds = int(input(\"Indicates an odd number of rounds: \"))\n",
    "\n",
    "n_rounds = 0\n",
    "rounds_to_win = 0\n",
    "cpu_score = 0\n",
    "player_score = 0\n",
    "\n",
    "def bonus_match():\n",
    "  player_gest = 0\n",
    "  while int(player_gest) < 1 or int(player_gest) > 5:\n",
    "    player_gest = input(\"Choose 1 for ROCK, 2 for PAPER, 3 for SCISSORS, 4 for SPOCK or 5 for LIZARD: \")\n",
    "  if int(player_gest) < 1 or int(player_gest) > 5:\n",
    "    print(\"Please choose a number between 1 and 5!!!\")\n",
    "  print(dict_gesture[player_gest])\n",
    "\n",
    "  winner = bonus_game(player_gest)\n",
    "  \n",
    "  if winner == 1:\n",
    "    match_winner = (\"CPU wins\", 1)\n",
    "  elif winner == 2:\n",
    "    match_winner = (\"PLAYER wins\", 2)\n",
    "  else:\n",
    "    match_winner = (\"It's a TIE\", 0)\n",
    "  return(match_winner)\n",
    "\n",
    "while n_rounds < total_rounds:\n",
    "  game_round = bonus_match()\n",
    "  n_rounds = n_rounds + 1\n",
    "  if game_round[1] == 1:\n",
    "    cpu_score = cpu_score + 1\n",
    "  elif game_round[1] == 2:\n",
    "    player_score = player_score + 1\n",
    "  print(\"Player points: %d\" % player_score)\n",
    "  print(\"Computer points: %d\" % cpu_score)\n",
    "\n",
    "\n",
    "if player_score > cpu_score:\n",
    "  print(\"Player wins!\")\n",
    "elif player_score < cpu_score:\n",
    "  print(\"Computer wins!\")\n",
    "elif player_score == cpu_score:\n",
    "  print(\"It's a tie!\")\n"
   ]
  }
 ],
 "metadata": {
  "kernelspec": {
   "display_name": "Python 3",
   "language": "python",
   "name": "python3"
  },
  "language_info": {
   "codemirror_mode": {
    "name": "ipython",
    "version": 3
   },
   "file_extension": ".py",
   "mimetype": "text/x-python",
   "name": "python",
   "nbconvert_exporter": "python",
   "pygments_lexer": "ipython3",
   "version": "3.7.6"
  }
 },
 "nbformat": 4,
 "nbformat_minor": 2
}
